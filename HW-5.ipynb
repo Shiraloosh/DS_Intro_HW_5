{
 "cells": [
  {
   "cell_type": "code",
   "execution_count": 1,
   "id": "7e7788e3",
   "metadata": {},
   "outputs": [],
   "source": [
    "import pandas as pd\n",
    "import numpy as np\n",
    "import requests\n",
    "from bs4 import BeautifulSoup"
   ]
  },
  {
   "cell_type": "code",
   "execution_count": 2,
   "id": "7f25b3b7",
   "metadata": {},
   "outputs": [],
   "source": [
    "data = pd.read_csv(\"C:/temp/destinations_LP_crawler_Ex5 .csv\",encoding='latin-1')\n"
   ]
  },
  {
   "cell_type": "code",
   "execution_count": 3,
   "id": "b72fa8b1",
   "metadata": {},
   "outputs": [
    {
     "data": {
      "text/plain": [
       "pandas.core.frame.DataFrame"
      ]
     },
     "execution_count": 3,
     "metadata": {},
     "output_type": "execute_result"
    }
   ],
   "source": [
    "type(data)"
   ]
  },
  {
   "cell_type": "code",
   "execution_count": 4,
   "id": "3d966a9b",
   "metadata": {},
   "outputs": [
    {
     "data": {
      "text/plain": [
       "0       Antalya\n",
       "1        Athens\n",
       "2     Ayia-napa\n",
       "3       Bangkok\n",
       "4     Barcelona\n",
       "        ...    \n",
       "71       Venice\n",
       "72       Vienna\n",
       "73       Warsaw\n",
       "74    Zakynthos\n",
       "75       Zurich\n",
       "Name: city, Length: 76, dtype: object"
      ]
     },
     "execution_count": 4,
     "metadata": {},
     "output_type": "execute_result"
    }
   ],
   "source": [
    "data['city']"
   ]
  },
  {
   "cell_type": "code",
   "execution_count": 5,
   "id": "971ee9e7",
   "metadata": {},
   "outputs": [],
   "source": [
    "api_key = my_api'\n",
    "def GETNAME(row):\n",
    "    city=row['city']\n",
    "    try:\n",
    "            urlgeocode=\"https://maps.googleapis.com/maps/api/geocode/json?address=%s&key=%s\" % (city,api_key)\n",
    "            response_urlgeocode = requests.get(urlgeocode)\n",
    "            response_data_geocode = response_urlgeocode.json()\n",
    "            cuntrydic=response_data_geocode['results'][0]['address_components']\n",
    "            for i in cuntrydic:\n",
    "                if [i][0]['types'][0]=='country':\n",
    "                    return([i][0]['long_name'])\n",
    "                                \n",
    "    except:\n",
    "            try:\n",
    "                city=city.split('-')[0]\n",
    "                urlgeocode=\"https://maps.googleapis.com/maps/api/geocode/json?address=%s&key=%s\" % (city,api_key)\n",
    "                response_urlgeocode = requests.get(urlgeocode)\n",
    "                response_data_geocode = response_urlgeocode.json()\n",
    "                cuntrydic=response_data_geocode['results'][0]['address_components']\n",
    "                for i in cuntrydic:\n",
    "                       if [i][0]['types'][0]=='country':\n",
    "                             return([i][0]['long_name'])\n",
    "            except:\n",
    "                    try:\n",
    "                        city=row['city_LP']\n",
    "                        urlgeocode=\"https://maps.googleapis.com/maps/api/geocode/json?address=%s&key=%s\" % (city,api_key)\n",
    "                        response_urlgeocode = requests.get(urlgeocode)\n",
    "                        response_data_geocode = response_urlgeocode.json()\n",
    "                        cuntrydic=response_data_geocode['results'][0]['address_components']\n",
    "                        for i in cuntrydic:\n",
    "                            if [i][0]['types'][0]=='country':\n",
    "                                return([i][0]['long_name'])\n",
    "                    except:   \n",
    "                        return np.NaN\n",
    "\n",
    "data['Country']=data.apply(lambda row:GETNAME(row),axis=1)"
   ]
  },
  {
   "cell_type": "code",
   "execution_count": 6,
   "id": "733ff175",
   "metadata": {},
   "outputs": [
    {
     "data": {
      "text/plain": [
       "array(['Turkey', 'Greece', 'Cyprus', 'Thailand', 'Spain', 'Switzerland',\n",
       "       'Georgia', 'China', 'Germany', 'United States', 'Slovakia',\n",
       "       'Belgium', 'Romania', 'Hungary', 'Bulgaria', 'Mexico', 'Italy',\n",
       "       'Poland', 'India', 'Ireland', 'Croatia', 'Austria', 'Ukraine',\n",
       "       'Portugal', 'Slovenia', 'Philippines', 'France', 'Russia',\n",
       "       'Taiwan', 'Canada'], dtype=object)"
      ]
     },
     "execution_count": 6,
     "metadata": {},
     "output_type": "execute_result"
    }
   ],
   "source": [
    "data['Country'].unique()\n"
   ]
  },
  {
   "cell_type": "code",
   "execution_count": 7,
   "id": "eda3d154",
   "metadata": {},
   "outputs": [
    {
     "data": {
      "text/html": [
       "<div>\n",
       "<style scoped>\n",
       "    .dataframe tbody tr th:only-of-type {\n",
       "        vertical-align: middle;\n",
       "    }\n",
       "\n",
       "    .dataframe tbody tr th {\n",
       "        vertical-align: top;\n",
       "    }\n",
       "\n",
       "    .dataframe thead th {\n",
       "        text-align: right;\n",
       "    }\n",
       "</style>\n",
       "<table border=\"1\" class=\"dataframe\">\n",
       "  <thead>\n",
       "    <tr style=\"text-align: right;\">\n",
       "      <th></th>\n",
       "      <th>city</th>\n",
       "      <th>city_LP</th>\n",
       "      <th>Country</th>\n",
       "    </tr>\n",
       "  </thead>\n",
       "  <tbody>\n",
       "    <tr>\n",
       "      <th>0</th>\n",
       "      <td>Antalya</td>\n",
       "      <td>mediterranean-coast/antalya</td>\n",
       "      <td>Turkey</td>\n",
       "    </tr>\n",
       "    <tr>\n",
       "      <th>1</th>\n",
       "      <td>Athens</td>\n",
       "      <td>Athens</td>\n",
       "      <td>Greece</td>\n",
       "    </tr>\n",
       "    <tr>\n",
       "      <th>2</th>\n",
       "      <td>Ayia-napa</td>\n",
       "      <td>the-republic-of-cyprus/Agia-napa</td>\n",
       "      <td>Cyprus</td>\n",
       "    </tr>\n",
       "    <tr>\n",
       "      <th>3</th>\n",
       "      <td>Bangkok</td>\n",
       "      <td>Bangkok</td>\n",
       "      <td>Thailand</td>\n",
       "    </tr>\n",
       "    <tr>\n",
       "      <th>4</th>\n",
       "      <td>Barcelona</td>\n",
       "      <td>Barcelona</td>\n",
       "      <td>Spain</td>\n",
       "    </tr>\n",
       "    <tr>\n",
       "      <th>...</th>\n",
       "      <td>...</td>\n",
       "      <td>...</td>\n",
       "      <td>...</td>\n",
       "    </tr>\n",
       "    <tr>\n",
       "      <th>71</th>\n",
       "      <td>Venice</td>\n",
       "      <td>Venice</td>\n",
       "      <td>Italy</td>\n",
       "    </tr>\n",
       "    <tr>\n",
       "      <th>72</th>\n",
       "      <td>Vienna</td>\n",
       "      <td>Vienna</td>\n",
       "      <td>Austria</td>\n",
       "    </tr>\n",
       "    <tr>\n",
       "      <th>73</th>\n",
       "      <td>Warsaw</td>\n",
       "      <td>Warsaw</td>\n",
       "      <td>Poland</td>\n",
       "    </tr>\n",
       "    <tr>\n",
       "      <th>74</th>\n",
       "      <td>Zakynthos</td>\n",
       "      <td>Zakynthos</td>\n",
       "      <td>Greece</td>\n",
       "    </tr>\n",
       "    <tr>\n",
       "      <th>75</th>\n",
       "      <td>Zurich</td>\n",
       "      <td>Zurich</td>\n",
       "      <td>Switzerland</td>\n",
       "    </tr>\n",
       "  </tbody>\n",
       "</table>\n",
       "<p>76 rows × 3 columns</p>\n",
       "</div>"
      ],
      "text/plain": [
       "         city                           city_LP      Country\n",
       "0     Antalya       mediterranean-coast/antalya       Turkey\n",
       "1      Athens                            Athens       Greece\n",
       "2   Ayia-napa  the-republic-of-cyprus/Agia-napa       Cyprus\n",
       "3     Bangkok                           Bangkok     Thailand\n",
       "4   Barcelona                         Barcelona        Spain\n",
       "..        ...                               ...          ...\n",
       "71     Venice                            Venice        Italy\n",
       "72     Vienna                            Vienna      Austria\n",
       "73     Warsaw                            Warsaw       Poland\n",
       "74  Zakynthos                         Zakynthos       Greece\n",
       "75     Zurich                            Zurich  Switzerland\n",
       "\n",
       "[76 rows x 3 columns]"
      ]
     },
     "execution_count": 7,
     "metadata": {},
     "output_type": "execute_result"
    }
   ],
   "source": [
    "data"
   ]
  },
  {
   "cell_type": "code",
   "execution_count": 8,
   "id": "14db9489",
   "metadata": {},
   "outputs": [
    {
     "data": {
      "text/html": [
       "<div>\n",
       "<style scoped>\n",
       "    .dataframe tbody tr th:only-of-type {\n",
       "        vertical-align: middle;\n",
       "    }\n",
       "\n",
       "    .dataframe tbody tr th {\n",
       "        vertical-align: top;\n",
       "    }\n",
       "\n",
       "    .dataframe thead th {\n",
       "        text-align: right;\n",
       "    }\n",
       "</style>\n",
       "<table border=\"1\" class=\"dataframe\">\n",
       "  <thead>\n",
       "    <tr style=\"text-align: right;\">\n",
       "      <th></th>\n",
       "      <th>city</th>\n",
       "      <th>city_LP</th>\n",
       "      <th>Country</th>\n",
       "    </tr>\n",
       "  </thead>\n",
       "  <tbody>\n",
       "  </tbody>\n",
       "</table>\n",
       "</div>"
      ],
      "text/plain": [
       "Empty DataFrame\n",
       "Columns: [city, city_LP, Country]\n",
       "Index: []"
      ]
     },
     "execution_count": 8,
     "metadata": {},
     "output_type": "execute_result"
    }
   ],
   "source": [
    "#we have none?\n",
    "data[data['Country'].isnull()]\n",
    "\n",
    "#data[data['Country']=='Poland']\n"
   ]
  },
  {
   "cell_type": "code",
   "execution_count": 9,
   "id": "d5fbdbaf",
   "metadata": {},
   "outputs": [],
   "source": [
    "#data1=data[data['city']=='Venice']\n",
    "data1=data.iloc[1:10]"
   ]
  },
  {
   "cell_type": "code",
   "execution_count": 10,
   "id": "543b3d34",
   "metadata": {},
   "outputs": [
    {
     "data": {
      "text/html": [
       "<div>\n",
       "<style scoped>\n",
       "    .dataframe tbody tr th:only-of-type {\n",
       "        vertical-align: middle;\n",
       "    }\n",
       "\n",
       "    .dataframe tbody tr th {\n",
       "        vertical-align: top;\n",
       "    }\n",
       "\n",
       "    .dataframe thead th {\n",
       "        text-align: right;\n",
       "    }\n",
       "</style>\n",
       "<table border=\"1\" class=\"dataframe\">\n",
       "  <thead>\n",
       "    <tr style=\"text-align: right;\">\n",
       "      <th></th>\n",
       "      <th>city</th>\n",
       "      <th>city_LP</th>\n",
       "      <th>Country</th>\n",
       "    </tr>\n",
       "  </thead>\n",
       "  <tbody>\n",
       "    <tr>\n",
       "      <th>1</th>\n",
       "      <td>Athens</td>\n",
       "      <td>Athens</td>\n",
       "      <td>Greece</td>\n",
       "    </tr>\n",
       "    <tr>\n",
       "      <th>2</th>\n",
       "      <td>Ayia-napa</td>\n",
       "      <td>the-republic-of-cyprus/Agia-napa</td>\n",
       "      <td>Cyprus</td>\n",
       "    </tr>\n",
       "    <tr>\n",
       "      <th>3</th>\n",
       "      <td>Bangkok</td>\n",
       "      <td>Bangkok</td>\n",
       "      <td>Thailand</td>\n",
       "    </tr>\n",
       "    <tr>\n",
       "      <th>4</th>\n",
       "      <td>Barcelona</td>\n",
       "      <td>Barcelona</td>\n",
       "      <td>Spain</td>\n",
       "    </tr>\n",
       "    <tr>\n",
       "      <th>5</th>\n",
       "      <td>Basel</td>\n",
       "      <td>northern-switzerland/basel</td>\n",
       "      <td>Switzerland</td>\n",
       "    </tr>\n",
       "    <tr>\n",
       "      <th>6</th>\n",
       "      <td>Batumi</td>\n",
       "      <td>adjara/batumi</td>\n",
       "      <td>Georgia</td>\n",
       "    </tr>\n",
       "    <tr>\n",
       "      <th>7</th>\n",
       "      <td>Beijing</td>\n",
       "      <td>Beijing</td>\n",
       "      <td>China</td>\n",
       "    </tr>\n",
       "    <tr>\n",
       "      <th>8</th>\n",
       "      <td>Berlin</td>\n",
       "      <td>Berlin</td>\n",
       "      <td>Germany</td>\n",
       "    </tr>\n",
       "    <tr>\n",
       "      <th>9</th>\n",
       "      <td>Boston</td>\n",
       "      <td>Boston</td>\n",
       "      <td>United States</td>\n",
       "    </tr>\n",
       "  </tbody>\n",
       "</table>\n",
       "</div>"
      ],
      "text/plain": [
       "        city                           city_LP        Country\n",
       "1     Athens                            Athens         Greece\n",
       "2  Ayia-napa  the-republic-of-cyprus/Agia-napa         Cyprus\n",
       "3    Bangkok                           Bangkok       Thailand\n",
       "4  Barcelona                         Barcelona          Spain\n",
       "5      Basel        northern-switzerland/basel    Switzerland\n",
       "6     Batumi                     adjara/batumi        Georgia\n",
       "7    Beijing                           Beijing          China\n",
       "8     Berlin                            Berlin        Germany\n",
       "9     Boston                            Boston  United States"
      ]
     },
     "execution_count": 10,
     "metadata": {},
     "output_type": "execute_result"
    }
   ],
   "source": [
    "data1"
   ]
  },
  {
   "cell_type": "code",
   "execution_count": 11,
   "id": "1d46aebf",
   "metadata": {},
   "outputs": [],
   "source": [
    "def GetDescription(row):\n",
    "    try:\n",
    "        url=\"https://www.lonelyplanet.com/\"+row['Country']+\"/\"+row['city_LP']\n",
    "        html = requests.get(url)\n",
    "        soup = BeautifulSoup(html.content,'html.parser')\n",
    "        diteils_list=list()\n",
    "        diteils=soup.find('div',class_='readMore_content___5EuR relative overflow-hidden max-h-96 is-max wysiwyg')\n",
    "        for dit in diteils:\n",
    "            if dit.name=='p':\n",
    "                diteils_list.append(dit.text)\n",
    "            elif dit.name=='h2':\n",
    "                diteils_list.append(dit.text+':')\n",
    "    #convent the list to be a string\n",
    "        diteils_list_str=' '.join([str(item) for item in diteils_list])\n",
    "        return(diteils_list_str)\n",
    "    except:\n",
    "             return np.NaN\n",
    "\n",
    "data['Description']=data.apply(lambda row:GetDescription(row),axis=1)\n"
   ]
  },
  {
   "cell_type": "code",
   "execution_count": 12,
   "id": "6df0f752",
   "metadata": {},
   "outputs": [
    {
     "data": {
      "text/html": [
       "<div>\n",
       "<style scoped>\n",
       "    .dataframe tbody tr th:only-of-type {\n",
       "        vertical-align: middle;\n",
       "    }\n",
       "\n",
       "    .dataframe tbody tr th {\n",
       "        vertical-align: top;\n",
       "    }\n",
       "\n",
       "    .dataframe thead th {\n",
       "        text-align: right;\n",
       "    }\n",
       "</style>\n",
       "<table border=\"1\" class=\"dataframe\">\n",
       "  <thead>\n",
       "    <tr style=\"text-align: right;\">\n",
       "      <th></th>\n",
       "      <th>city</th>\n",
       "      <th>city_LP</th>\n",
       "      <th>Country</th>\n",
       "      <th>Description</th>\n",
       "    </tr>\n",
       "  </thead>\n",
       "  <tbody>\n",
       "    <tr>\n",
       "      <th>9</th>\n",
       "      <td>Boston</td>\n",
       "      <td>Boston</td>\n",
       "      <td>United States</td>\n",
       "      <td>NaN</td>\n",
       "    </tr>\n",
       "    <tr>\n",
       "      <th>39</th>\n",
       "      <td>Las-Vegas</td>\n",
       "      <td>Las-Vegas</td>\n",
       "      <td>United States</td>\n",
       "      <td>NaN</td>\n",
       "    </tr>\n",
       "    <tr>\n",
       "      <th>43</th>\n",
       "      <td>Los Angeles</td>\n",
       "      <td>Los-Angeles</td>\n",
       "      <td>United States</td>\n",
       "      <td>NaN</td>\n",
       "    </tr>\n",
       "    <tr>\n",
       "      <th>48</th>\n",
       "      <td>Miami</td>\n",
       "      <td>Miami</td>\n",
       "      <td>United States</td>\n",
       "      <td>NaN</td>\n",
       "    </tr>\n",
       "    <tr>\n",
       "      <th>62</th>\n",
       "      <td>San-Francisco</td>\n",
       "      <td>San-Francisco</td>\n",
       "      <td>United States</td>\n",
       "      <td>NaN</td>\n",
       "    </tr>\n",
       "  </tbody>\n",
       "</table>\n",
       "</div>"
      ],
      "text/plain": [
       "             city        city_LP        Country Description\n",
       "9          Boston         Boston  United States         NaN\n",
       "39      Las-Vegas      Las-Vegas  United States         NaN\n",
       "43    Los Angeles    Los-Angeles  United States         NaN\n",
       "48          Miami          Miami  United States         NaN\n",
       "62  San-Francisco  San-Francisco  United States         NaN"
      ]
     },
     "execution_count": 12,
     "metadata": {},
     "output_type": "execute_result"
    }
   ],
   "source": [
    "#do we have null?\n",
    "#WE can see we have null when the cuntry name is United States so i change to USA and apply again the function\n",
    "data[data['Description'].isnull()]\n"
   ]
  },
  {
   "cell_type": "code",
   "execution_count": 13,
   "id": "b823bd7c",
   "metadata": {},
   "outputs": [],
   "source": [
    "data['Country']=data['Country'].apply(lambda x: 'USA' if x == 'United States' else x)"
   ]
  },
  {
   "cell_type": "code",
   "execution_count": 14,
   "id": "c09e6706",
   "metadata": {},
   "outputs": [
    {
     "data": {
      "text/html": [
       "<div>\n",
       "<style scoped>\n",
       "    .dataframe tbody tr th:only-of-type {\n",
       "        vertical-align: middle;\n",
       "    }\n",
       "\n",
       "    .dataframe tbody tr th {\n",
       "        vertical-align: top;\n",
       "    }\n",
       "\n",
       "    .dataframe thead th {\n",
       "        text-align: right;\n",
       "    }\n",
       "</style>\n",
       "<table border=\"1\" class=\"dataframe\">\n",
       "  <thead>\n",
       "    <tr style=\"text-align: right;\">\n",
       "      <th></th>\n",
       "      <th>city</th>\n",
       "      <th>city_LP</th>\n",
       "      <th>Country</th>\n",
       "      <th>Description</th>\n",
       "    </tr>\n",
       "  </thead>\n",
       "  <tbody>\n",
       "    <tr>\n",
       "      <th>9</th>\n",
       "      <td>Boston</td>\n",
       "      <td>Boston</td>\n",
       "      <td>USA</td>\n",
       "      <td>NaN</td>\n",
       "    </tr>\n",
       "    <tr>\n",
       "      <th>39</th>\n",
       "      <td>Las-Vegas</td>\n",
       "      <td>Las-Vegas</td>\n",
       "      <td>USA</td>\n",
       "      <td>NaN</td>\n",
       "    </tr>\n",
       "    <tr>\n",
       "      <th>43</th>\n",
       "      <td>Los Angeles</td>\n",
       "      <td>Los-Angeles</td>\n",
       "      <td>USA</td>\n",
       "      <td>NaN</td>\n",
       "    </tr>\n",
       "    <tr>\n",
       "      <th>48</th>\n",
       "      <td>Miami</td>\n",
       "      <td>Miami</td>\n",
       "      <td>USA</td>\n",
       "      <td>NaN</td>\n",
       "    </tr>\n",
       "    <tr>\n",
       "      <th>62</th>\n",
       "      <td>San-Francisco</td>\n",
       "      <td>San-Francisco</td>\n",
       "      <td>USA</td>\n",
       "      <td>NaN</td>\n",
       "    </tr>\n",
       "  </tbody>\n",
       "</table>\n",
       "</div>"
      ],
      "text/plain": [
       "             city        city_LP Country Description\n",
       "9          Boston         Boston     USA         NaN\n",
       "39      Las-Vegas      Las-Vegas     USA         NaN\n",
       "43    Los Angeles    Los-Angeles     USA         NaN\n",
       "48          Miami          Miami     USA         NaN\n",
       "62  San-Francisco  San-Francisco     USA         NaN"
      ]
     },
     "execution_count": 14,
     "metadata": {},
     "output_type": "execute_result"
    }
   ],
   "source": [
    "data[data['Country']=='USA']"
   ]
  },
  {
   "cell_type": "code",
   "execution_count": 15,
   "id": "923b98b5",
   "metadata": {},
   "outputs": [],
   "source": [
    "data['Description']=data.apply(lambda row:GetDescription(row),axis=1)"
   ]
  },
  {
   "cell_type": "code",
   "execution_count": 17,
   "id": "1535f3fd",
   "metadata": {},
   "outputs": [
    {
     "data": {
      "text/html": [
       "<div>\n",
       "<style scoped>\n",
       "    .dataframe tbody tr th:only-of-type {\n",
       "        vertical-align: middle;\n",
       "    }\n",
       "\n",
       "    .dataframe tbody tr th {\n",
       "        vertical-align: top;\n",
       "    }\n",
       "\n",
       "    .dataframe thead th {\n",
       "        text-align: right;\n",
       "    }\n",
       "</style>\n",
       "<table border=\"1\" class=\"dataframe\">\n",
       "  <thead>\n",
       "    <tr style=\"text-align: right;\">\n",
       "      <th></th>\n",
       "      <th>city</th>\n",
       "      <th>city_LP</th>\n",
       "      <th>Country</th>\n",
       "      <th>Description</th>\n",
       "    </tr>\n",
       "  </thead>\n",
       "  <tbody>\n",
       "    <tr>\n",
       "      <th>9</th>\n",
       "      <td>Boston</td>\n",
       "      <td>Boston</td>\n",
       "      <td>USA</td>\n",
       "      <td>Boston's history recalls revolution and transf...</td>\n",
       "    </tr>\n",
       "    <tr>\n",
       "      <th>39</th>\n",
       "      <td>Las-Vegas</td>\n",
       "      <td>Las-Vegas</td>\n",
       "      <td>USA</td>\n",
       "      <td>An oasis of indulgence in the desert, Vegas' s...</td>\n",
       "    </tr>\n",
       "    <tr>\n",
       "      <th>43</th>\n",
       "      <td>Los Angeles</td>\n",
       "      <td>Los-Angeles</td>\n",
       "      <td>USA</td>\n",
       "      <td>Ruggedly good looking, deeply creative, with a...</td>\n",
       "    </tr>\n",
       "    <tr>\n",
       "      <th>48</th>\n",
       "      <td>Miami</td>\n",
       "      <td>Miami</td>\n",
       "      <td>USA</td>\n",
       "      <td>Beautiful beaches and art deco delights are ju...</td>\n",
       "    </tr>\n",
       "    <tr>\n",
       "      <th>62</th>\n",
       "      <td>San-Francisco</td>\n",
       "      <td>San-Francisco</td>\n",
       "      <td>USA</td>\n",
       "      <td>Other cities may surprise you, but in San Fran...</td>\n",
       "    </tr>\n",
       "  </tbody>\n",
       "</table>\n",
       "</div>"
      ],
      "text/plain": [
       "             city        city_LP Country  \\\n",
       "9          Boston         Boston     USA   \n",
       "39      Las-Vegas      Las-Vegas     USA   \n",
       "43    Los Angeles    Los-Angeles     USA   \n",
       "48          Miami          Miami     USA   \n",
       "62  San-Francisco  San-Francisco     USA   \n",
       "\n",
       "                                          Description  \n",
       "9   Boston's history recalls revolution and transf...  \n",
       "39  An oasis of indulgence in the desert, Vegas' s...  \n",
       "43  Ruggedly good looking, deeply creative, with a...  \n",
       "48  Beautiful beaches and art deco delights are ju...  \n",
       "62  Other cities may surprise you, but in San Fran...  "
      ]
     },
     "execution_count": 17,
     "metadata": {},
     "output_type": "execute_result"
    }
   ],
   "source": [
    "data[data['Country']=='USA']"
   ]
  },
  {
   "cell_type": "code",
   "execution_count": 18,
   "id": "077940e9",
   "metadata": {},
   "outputs": [
    {
     "data": {
      "text/html": [
       "<div>\n",
       "<style scoped>\n",
       "    .dataframe tbody tr th:only-of-type {\n",
       "        vertical-align: middle;\n",
       "    }\n",
       "\n",
       "    .dataframe tbody tr th {\n",
       "        vertical-align: top;\n",
       "    }\n",
       "\n",
       "    .dataframe thead th {\n",
       "        text-align: right;\n",
       "    }\n",
       "</style>\n",
       "<table border=\"1\" class=\"dataframe\">\n",
       "  <thead>\n",
       "    <tr style=\"text-align: right;\">\n",
       "      <th></th>\n",
       "      <th>city</th>\n",
       "      <th>city_LP</th>\n",
       "      <th>Country</th>\n",
       "      <th>Description</th>\n",
       "    </tr>\n",
       "  </thead>\n",
       "  <tbody>\n",
       "  </tbody>\n",
       "</table>\n",
       "</div>"
      ],
      "text/plain": [
       "Empty DataFrame\n",
       "Columns: [city, city_LP, Country, Description]\n",
       "Index: []"
      ]
     },
     "execution_count": 18,
     "metadata": {},
     "output_type": "execute_result"
    }
   ],
   "source": [
    "data[data['Description'].isnull()]\n"
   ]
  },
  {
   "cell_type": "code",
   "execution_count": 19,
   "id": "e7d8f234",
   "metadata": {},
   "outputs": [
    {
     "data": {
      "text/html": [
       "<div>\n",
       "<style scoped>\n",
       "    .dataframe tbody tr th:only-of-type {\n",
       "        vertical-align: middle;\n",
       "    }\n",
       "\n",
       "    .dataframe tbody tr th {\n",
       "        vertical-align: top;\n",
       "    }\n",
       "\n",
       "    .dataframe thead th {\n",
       "        text-align: right;\n",
       "    }\n",
       "</style>\n",
       "<table border=\"1\" class=\"dataframe\">\n",
       "  <thead>\n",
       "    <tr style=\"text-align: right;\">\n",
       "      <th></th>\n",
       "      <th>city</th>\n",
       "      <th>Country</th>\n",
       "      <th>Description</th>\n",
       "    </tr>\n",
       "  </thead>\n",
       "  <tbody>\n",
       "    <tr>\n",
       "      <th>0</th>\n",
       "      <td>Antalya</td>\n",
       "      <td>Turkey</td>\n",
       "      <td>Once seen simply as the gateway to the Turkish...</td>\n",
       "    </tr>\n",
       "    <tr>\n",
       "      <th>1</th>\n",
       "      <td>Athens</td>\n",
       "      <td>Greece</td>\n",
       "      <td>With equal measures of grunge and grace, Athen...</td>\n",
       "    </tr>\n",
       "    <tr>\n",
       "      <th>2</th>\n",
       "      <td>Ayia-napa</td>\n",
       "      <td>Cyprus</td>\n",
       "      <td>Endless blue-sky days and a coastline riddled ...</td>\n",
       "    </tr>\n",
       "    <tr>\n",
       "      <th>3</th>\n",
       "      <td>Bangkok</td>\n",
       "      <td>Thailand</td>\n",
       "      <td>Same same, but different. This Thailish T-shir...</td>\n",
       "    </tr>\n",
       "    <tr>\n",
       "      <th>4</th>\n",
       "      <td>Barcelona</td>\n",
       "      <td>Spain</td>\n",
       "      <td>Barcelona is an enchanting seaside city with b...</td>\n",
       "    </tr>\n",
       "    <tr>\n",
       "      <th>...</th>\n",
       "      <td>...</td>\n",
       "      <td>...</td>\n",
       "      <td>...</td>\n",
       "    </tr>\n",
       "    <tr>\n",
       "      <th>71</th>\n",
       "      <td>Venice</td>\n",
       "      <td>Italy</td>\n",
       "      <td>Imagine the audacity of building a city of mar...</td>\n",
       "    </tr>\n",
       "    <tr>\n",
       "      <th>72</th>\n",
       "      <td>Vienna</td>\n",
       "      <td>Austria</td>\n",
       "      <td>Baroque streetscapes and imperial palaces set ...</td>\n",
       "    </tr>\n",
       "    <tr>\n",
       "      <th>73</th>\n",
       "      <td>Warsaw</td>\n",
       "      <td>Poland</td>\n",
       "      <td>A phoenix arisen from the ashes, Poland's capi...</td>\n",
       "    </tr>\n",
       "    <tr>\n",
       "      <th>74</th>\n",
       "      <td>Zakynthos</td>\n",
       "      <td>Greece</td>\n",
       "      <td>Zakynthos, also known by its Italian name Zant...</td>\n",
       "    </tr>\n",
       "    <tr>\n",
       "      <th>75</th>\n",
       "      <td>Zurich</td>\n",
       "      <td>Switzerland</td>\n",
       "      <td>Culturally vibrant, efficiently run and attrac...</td>\n",
       "    </tr>\n",
       "  </tbody>\n",
       "</table>\n",
       "<p>76 rows × 3 columns</p>\n",
       "</div>"
      ],
      "text/plain": [
       "         city      Country                                        Description\n",
       "0     Antalya       Turkey  Once seen simply as the gateway to the Turkish...\n",
       "1      Athens       Greece  With equal measures of grunge and grace, Athen...\n",
       "2   Ayia-napa       Cyprus  Endless blue-sky days and a coastline riddled ...\n",
       "3     Bangkok     Thailand  Same same, but different. This Thailish T-shir...\n",
       "4   Barcelona        Spain  Barcelona is an enchanting seaside city with b...\n",
       "..        ...          ...                                                ...\n",
       "71     Venice        Italy  Imagine the audacity of building a city of mar...\n",
       "72     Vienna      Austria  Baroque streetscapes and imperial palaces set ...\n",
       "73     Warsaw       Poland  A phoenix arisen from the ashes, Poland's capi...\n",
       "74  Zakynthos       Greece  Zakynthos, also known by its Italian name Zant...\n",
       "75     Zurich  Switzerland  Culturally vibrant, efficiently run and attrac...\n",
       "\n",
       "[76 rows x 3 columns]"
      ]
     },
     "execution_count": 19,
     "metadata": {},
     "output_type": "execute_result"
    }
   ],
   "source": [
    "LP_destinations=data[['city','Country','Description']]\n",
    "LP_destinations"
   ]
  },
  {
   "cell_type": "code",
   "execution_count": 20,
   "id": "2fc8bb15",
   "metadata": {},
   "outputs": [
    {
     "data": {
      "text/plain": [
       "\"Once seen simply as the gateway to the Turkish Riviera, Antalya today is very much a destination in its own right. Situated right on the Gulf of Antalya (Antalya Körfezi), the largest city on Turkey's western Mediterranean coastline is both classically beautiful and stylishly modern. At its core is the wonderfully preserved old-city district of Kaleiçi (literally 'within the castle'), which offers atmospheric accommodation in the finely restored Ottoman houses on its winding lanes. The old city wraps around a splendid Roman-era harbour with clifftop views of hazy-blue mountain silhouettes that are worth raising a toast to. Just outside of the central city are two beaches and one of Turkey's finest museums.\""
      ]
     },
     "execution_count": 20,
     "metadata": {},
     "output_type": "execute_result"
    }
   ],
   "source": [
    "LP_destinations.iloc[0,2]"
   ]
  },
  {
   "cell_type": "code",
   "execution_count": 21,
   "id": "ed83594f",
   "metadata": {},
   "outputs": [],
   "source": [
    "LP_destinations.to_csv(\"C:/temp/LP_destinations.csv\",index=False)"
   ]
  },
  {
   "cell_type": "code",
   "execution_count": null,
   "id": "3f4d941c",
   "metadata": {},
   "outputs": [],
   "source": []
  }
 ],
 "metadata": {
  "kernelspec": {
   "display_name": "Python 3 (ipykernel)",
   "language": "python",
   "name": "python3"
  },
  "language_info": {
   "codemirror_mode": {
    "name": "ipython",
    "version": 3
   },
   "file_extension": ".py",
   "mimetype": "text/x-python",
   "name": "python",
   "nbconvert_exporter": "python",
   "pygments_lexer": "ipython3",
   "version": "3.9.7"
  }
 },
 "nbformat": 4,
 "nbformat_minor": 5
}
